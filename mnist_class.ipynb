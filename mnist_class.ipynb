{
  "metadata": {
    "kernelspec": {
      "language": "python",
      "display_name": "Python 3",
      "name": "python3"
    },
    "language_info": {
      "name": "python",
      "version": "3.7.6",
      "mimetype": "text/x-python",
      "codemirror_mode": {
        "name": "ipython",
        "version": 3
      },
      "pygments_lexer": "ipython3",
      "nbconvert_exporter": "python",
      "file_extension": ".py"
    },
    "colab": {
      "provenance": []
    }
  },
  "nbformat_minor": 0,
  "nbformat": 4,
  "cells": [
    {
      "cell_type": "code",
      "source": [
        "import numpy as np\n",
        "import pandas as pd\n",
        "from matplotlib import pyplot as plt\n",
        "\n",
        "data = pd.read_csv('/kaggle/input/digit-recognizer/train.csv')"
      ],
      "metadata": {
        "_uuid": "8f2839f25d086af736a60e9eeb907d3b93b6e0e5",
        "_cell_guid": "b1076dfc-b9ad-4769-8c92-a6c4dae69d19",
        "execution": {
          "iopub.status.busy": "2023-08-01T07:25:38.017029Z",
          "iopub.execute_input": "2023-08-01T07:25:38.017610Z",
          "iopub.status.idle": "2023-08-01T07:25:41.532548Z",
          "shell.execute_reply.started": "2023-08-01T07:25:38.017557Z",
          "shell.execute_reply": "2023-08-01T07:25:41.531495Z"
        },
        "trusted": true,
        "id": "blbBOuQ-L1_s"
      },
      "execution_count": null,
      "outputs": []
    },
    {
      "cell_type": "code",
      "source": [
        "data = np.array(data)\n",
        "m, n = data.shape\n",
        "np.random.shuffle(data) # shuffle before splitting into dev and training sets\n",
        "\n",
        "data_dev = data[0:1000].T\n",
        "Y_dev = data_dev[0]\n",
        "X_dev = data_dev[1:n]\n",
        "X_dev = X_dev / 255.\n",
        "\n",
        "data_train = data[1000:m].T\n",
        "Y_train = data_train[0]\n",
        "X_train = data_train[1:n]\n",
        "X_train = X_train / 255.\n",
        "_,m_train = X_train.shape"
      ],
      "metadata": {
        "execution": {
          "iopub.status.busy": "2023-08-01T07:25:41.534697Z",
          "iopub.execute_input": "2023-08-01T07:25:41.535040Z",
          "iopub.status.idle": "2023-08-01T07:25:42.306414Z",
          "shell.execute_reply.started": "2023-08-01T07:25:41.535007Z",
          "shell.execute_reply": "2023-08-01T07:25:42.305522Z"
        },
        "trusted": true,
        "id": "MKKeCxaAL1_t"
      },
      "execution_count": null,
      "outputs": []
    },
    {
      "cell_type": "code",
      "source": [
        "Y_train"
      ],
      "metadata": {
        "execution": {
          "iopub.status.busy": "2023-08-01T07:25:42.307864Z",
          "iopub.execute_input": "2023-08-01T07:25:42.308197Z",
          "iopub.status.idle": "2023-08-01T07:25:42.317554Z",
          "shell.execute_reply.started": "2023-08-01T07:25:42.308164Z",
          "shell.execute_reply": "2023-08-01T07:25:42.316673Z"
        },
        "trusted": true,
        "id": "f1MtAAgDL1_t",
        "outputId": "da46dad4-086a-4244-99a0-c5223d607a2e"
      },
      "execution_count": null,
      "outputs": [
        {
          "execution_count": 3,
          "output_type": "execute_result",
          "data": {
            "text/plain": "array([6, 8, 4, ..., 2, 7, 8])"
          },
          "metadata": {}
        }
      ]
    },
    {
      "cell_type": "code",
      "source": [
        "def init_params():\n",
        "    W1 = np.random.rand(10, 784) - 0.5\n",
        "    b1 = np.random.rand(10, 1) - 0.5\n",
        "    W2 = np.random.rand(10, 10) - 0.5\n",
        "    b2 = np.random.rand(10, 1) - 0.5\n",
        "    return W1, b1, W2, b2\n",
        "\n",
        "def ReLU(Z):\n",
        "    return np.maximum(Z, 0)\n",
        "\n",
        "def softmax(Z):\n",
        "    A = np.exp(Z) / sum(np.exp(Z))\n",
        "    return A\n",
        "\n",
        "def forward_prop(W1, b1, W2, b2, X):\n",
        "    Z1 = W1.dot(X) + b1\n",
        "    A1 = ReLU(Z1)\n",
        "    Z2 = W2.dot(A1) + b2\n",
        "    A2 = softmax(Z2)\n",
        "    return Z1, A1, Z2, A2\n",
        "\n",
        "def ReLU_deriv(Z):\n",
        "    return Z > 0\n",
        "\n",
        "def one_hot(Y):\n",
        "    one_hot_Y = np.zeros((Y.size, Y.max() + 1))\n",
        "    one_hot_Y[np.arange(Y.size), Y] = 1\n",
        "    one_hot_Y = one_hot_Y.T\n",
        "    return one_hot_Y\n",
        "\n",
        "def backward_prop(Z1, A1, Z2, A2, W1, W2, X, Y):\n",
        "    one_hot_Y = one_hot(Y)\n",
        "    dZ2 = A2 - one_hot_Y\n",
        "    dW2 = 1 / m * dZ2.dot(A1.T)\n",
        "    db2 = 1 / m * np.sum(dZ2)\n",
        "    dZ1 = W2.T.dot(dZ2) * ReLU_deriv(Z1)\n",
        "    dW1 = 1 / m * dZ1.dot(X.T)\n",
        "    db1 = 1 / m * np.sum(dZ1)\n",
        "    return dW1, db1, dW2, db2\n",
        "\n",
        "def update_params(W1, b1, W2, b2, dW1, db1, dW2, db2, alpha):\n",
        "    W1 = W1 - alpha * dW1\n",
        "    b1 = b1 - alpha * db1\n",
        "    W2 = W2 - alpha * dW2\n",
        "    b2 = b2 - alpha * db2\n",
        "    return W1, b1, W2, b2"
      ],
      "metadata": {
        "execution": {
          "iopub.status.busy": "2023-08-01T07:25:42.319135Z",
          "iopub.execute_input": "2023-08-01T07:25:42.319833Z",
          "iopub.status.idle": "2023-08-01T07:25:42.337659Z",
          "shell.execute_reply.started": "2023-08-01T07:25:42.319784Z",
          "shell.execute_reply": "2023-08-01T07:25:42.336711Z"
        },
        "trusted": true,
        "id": "ZUBY5fJ9L1_v"
      },
      "execution_count": null,
      "outputs": []
    },
    {
      "cell_type": "code",
      "source": [
        "def get_predictions(A2):\n",
        "    return np.argmax(A2, 0)\n",
        "\n",
        "def get_accuracy(predictions, Y):\n",
        "    print(predictions, Y)\n",
        "    return np.sum(predictions == Y) / Y.size\n",
        "\n",
        "def gradient_descent(X, Y, alpha, iterations):\n",
        "    W1, b1, W2, b2 = init_params()\n",
        "    for i in range(iterations):\n",
        "        Z1, A1, Z2, A2 = forward_prop(W1, b1, W2, b2, X)\n",
        "        dW1, db1, dW2, db2 = backward_prop(Z1, A1, Z2, A2, W1, W2, X, Y)\n",
        "        W1, b1, W2, b2 = update_params(W1, b1, W2, b2, dW1, db1, dW2, db2, alpha)\n",
        "        if i % 10 == 0:\n",
        "            print(\"Iteration: \", i)\n",
        "            predictions = get_predictions(A2)\n",
        "            print(get_accuracy(predictions, Y))\n",
        "    return W1, b1, W2, b2"
      ],
      "metadata": {
        "execution": {
          "iopub.status.busy": "2023-08-01T07:25:42.342259Z",
          "iopub.execute_input": "2023-08-01T07:25:42.342874Z",
          "iopub.status.idle": "2023-08-01T07:25:42.354488Z",
          "shell.execute_reply.started": "2023-08-01T07:25:42.342821Z",
          "shell.execute_reply": "2023-08-01T07:25:42.353627Z"
        },
        "trusted": true,
        "id": "glJNgrD3L1_v"
      },
      "execution_count": null,
      "outputs": []
    },
    {
      "cell_type": "code",
      "source": [
        "W1, b1, W2, b2 = gradient_descent(X_train, Y_train, 0.10, 500)"
      ],
      "metadata": {
        "execution": {
          "iopub.status.busy": "2023-08-01T07:25:42.356706Z",
          "iopub.execute_input": "2023-08-01T07:25:42.357139Z",
          "iopub.status.idle": "2023-08-01T07:26:23.672330Z",
          "shell.execute_reply.started": "2023-08-01T07:25:42.357091Z",
          "shell.execute_reply": "2023-08-01T07:26:23.671497Z"
        },
        "trusted": true,
        "id": "KGLQvKqmL1_w"
      },
      "execution_count": null,
      "outputs": []
    },
    {
      "cell_type": "code",
      "source": [
        "def make_predictions(X, W1, b1, W2, b2):\n",
        "    _, _, _, A2 = forward_prop(W1, b1, W2, b2, X)\n",
        "    predictions = get_predictions(A2)\n",
        "    return predictions\n",
        "\n",
        "def test_prediction(index, W1, b1, W2, b2):\n",
        "    current_image = X_train[:, index, None]\n",
        "    prediction = make_predictions(X_train[:, index, None], W1, b1, W2, b2)\n",
        "    label = Y_train[index]\n",
        "    print(\"Prediction: \", prediction)\n",
        "    print(\"Label: \", label)\n",
        "\n",
        "    current_image = current_image.reshape((28, 28)) * 255\n",
        "    plt.gray()\n",
        "    plt.imshow(current_image, interpolation='nearest')\n",
        "    plt.show()"
      ],
      "metadata": {
        "execution": {
          "iopub.status.busy": "2023-08-01T07:26:23.673490Z",
          "iopub.execute_input": "2023-08-01T07:26:23.673992Z",
          "iopub.status.idle": "2023-08-01T07:26:23.682163Z",
          "shell.execute_reply.started": "2023-08-01T07:26:23.673956Z",
          "shell.execute_reply": "2023-08-01T07:26:23.681068Z"
        },
        "trusted": true,
        "id": "c6EvEmFVL1_w"
      },
      "execution_count": null,
      "outputs": []
    },
    {
      "cell_type": "markdown",
      "source": [
        "Predictions"
      ],
      "metadata": {
        "id": "H1JRg_gxL1_x"
      }
    },
    {
      "cell_type": "code",
      "source": [
        "test_prediction(0, W1, b1, W2, b2)\n",
        "test_prediction(1, W1, b1, W2, b2)\n",
        "test_prediction(2, W1, b1, W2, b2)\n",
        "test_prediction(3, W1, b1, W2, b2)"
      ],
      "metadata": {
        "execution": {
          "iopub.status.busy": "2023-08-01T07:26:23.683712Z",
          "iopub.execute_input": "2023-08-01T07:26:23.684134Z",
          "iopub.status.idle": "2023-08-01T07:26:24.348569Z",
          "shell.execute_reply.started": "2023-08-01T07:26:23.684097Z",
          "shell.execute_reply": "2023-08-01T07:26:24.347501Z"
        },
        "trusted": true,
        "id": "VmJnPXVnL1_x",
        "outputId": "c2bc8891-282e-4a6d-de0d-48e8184076c9"
      },
      "execution_count": null,
      "outputs": [
        {
          "name": "stdout",
          "text": "Prediction:  [6]\nLabel:  6\n",
          "output_type": "stream"
        },
        {
          "output_type": "display_data",
          "data": {
            "text/plain": "<Figure size 432x288 with 1 Axes>",
            "image/png": "[encoded data removed]"
          },
          "metadata": {
            "needs_background": "light"
          }
        },
        {
          "name": "stdout",
          "text": "Prediction:  [7]\nLabel:  8\n",
          "output_type": "stream"
        },
        {
          "output_type": "display_data",
          "data": {
            "text/plain": "<Figure size 432x288 with 1 Axes>",
            "image/png": "[encoded data removed]"
          },
          "metadata": {
            "needs_background": "light"
          }
        },
        {
          "name": "stdout",
          "text": "Prediction:  [4]\nLabel:  4\n",
          "output_type": "stream"
        },
        {
          "output_type": "display_data",
          "data": {
            "text/plain": "<Figure size 432x288 with 1 Axes>",
            "image/png": "[encoded data removed]"
          },
          "metadata": {
            "needs_background": "light"
          }
        },
        {
          "name": "stdout",
          "text": "Prediction:  [8]\nLabel:  8\n",
          "output_type": "stream"
        },
        {
          "output_type": "display_data",
          "data": {
            "text/plain": "<Figure size 432x288 with 1 Axes>",
            "image/png": "[encoded data removed]"
          },
          "metadata": {
            "needs_background": "light"
          }
        }
      ]
    }
  ]
}